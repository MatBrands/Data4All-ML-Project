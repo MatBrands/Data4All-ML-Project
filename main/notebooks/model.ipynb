{
 "cells": [
  {
   "attachments": {},
   "cell_type": "markdown",
   "metadata": {},
   "source": [
    "# Itens abordados ao longo do projeto"
   ]
  },
  {
   "attachments": {},
   "cell_type": "markdown",
   "metadata": {},
   "source": [
    "<div style=\"line-height: 2; font-size: 16px; text-align: justify; text-indent: 1em; margin: 0 0 0 10px;\">\n",
    "    <ol>\n",
    "        <li>Algoritmo de Machine Learning (Breve explicação do seu funcionamento);</li>\n",
    "        <li>Utilização do Random State;</li>\n",
    "        <li>Balanceamento de dataset;</li>\n",
    "        <li>Divisão do dataset (train / test);</li>\n",
    "        <li>Técnicas de tratamento para Categóricas;</li>\n",
    "        <li>Feature Scaling;</li>\n",
    "        <li>Feature Selection;</li>\n",
    "        <ul>\n",
    "            <li>Identificação e eliminação de um variáveis que se comportam como ID.</li>\n",
    "        </ul>\n",
    "        <li>Learning Curve / Underfitting / Overfitting;</li>\n",
    "        <li>Métricas para avaliação para Classificação/Regressão;</li>\n",
    "        <li>Pipeline / ColumnTransformer;</li>\n",
    "        <li>Otimização de Hiperparâmetros;</li>\n",
    "        <li>Explicação acerca dos Hiperparâmetros escolhidos;</li>\n",
    "        <li>Cross Validation;</li>\n",
    "        <li>Comparativo entre mais de um algoritmo.</li>\n",
    "    </ol>\n",
    "</div>"
   ]
  },
  {
   "attachments": {},
   "cell_type": "markdown",
   "metadata": {},
   "source": [
    "# Imports"
   ]
  },
  {
   "cell_type": "code",
   "execution_count": null,
   "metadata": {},
   "outputs": [],
   "source": []
  }
 ],
 "metadata": {
  "language_info": {
   "name": "python"
  },
  "orig_nbformat": 4
 },
 "nbformat": 4,
 "nbformat_minor": 2
}
